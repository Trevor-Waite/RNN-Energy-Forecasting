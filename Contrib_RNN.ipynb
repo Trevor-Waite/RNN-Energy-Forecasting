{
 "cells": [
  {
   "cell_type": "code",
   "execution_count": 81,
   "metadata": {},
   "outputs": [],
   "source": [
    "import pandas as pd\n",
    "from pandas import Series\n",
    "import numpy as np \n",
    "\n",
    "import matplotlib.pyplot as plt\n",
    "import seaborn as sns\n",
    "sns.set_style('darkgrid')\n",
    "%matplotlib inline"
   ]
  },
  {
   "cell_type": "markdown",
   "metadata": {},
   "source": [
    "# Read File"
   ]
  },
  {
   "cell_type": "code",
   "execution_count": 4,
   "metadata": {},
   "outputs": [],
   "source": [
    "def convert_datetime(df):\n",
    "    \n",
    "    df['Date_Hour'] = pd.to_datetime(df.Date) + pd.to_timedelta(df.Hour, unit='h')\n",
    "    \n",
    "    return df"
   ]
  },
  {
   "cell_type": "code",
   "execution_count": 5,
   "metadata": {},
   "outputs": [
    {
     "name": "stderr",
     "output_type": "stream",
     "text": [
      "C:\\Users\\trevo\\Anaconda3\\lib\\site-packages\\IPython\\core\\interactiveshell.py:2728: DtypeWarning: Columns (14) have mixed types. Specify dtype option on import or set low_memory=False.\n",
      "  interactivity=interactivity, compiler=compiler, result=result)\n"
     ]
    }
   ],
   "source": [
    "df = pd.read_csv(\"data/ZonalDemands_2003-2017.csv\")\n",
    "\n",
    "df['Date'] = pd.to_datetime(df['Date'])\n",
    "df = convert_datetime(df)\n",
    "\n",
    "df.set_index('Date_Hour', inplace =True)"
   ]
  },
  {
   "cell_type": "code",
   "execution_count": 6,
   "metadata": {},
   "outputs": [
    {
     "data": {
      "text/html": [
       "<div>\n",
       "<style scoped>\n",
       "    .dataframe tbody tr th:only-of-type {\n",
       "        vertical-align: middle;\n",
       "    }\n",
       "\n",
       "    .dataframe tbody tr th {\n",
       "        vertical-align: top;\n",
       "    }\n",
       "\n",
       "    .dataframe thead th {\n",
       "        text-align: right;\n",
       "    }\n",
       "</style>\n",
       "<table border=\"1\" class=\"dataframe\">\n",
       "  <thead>\n",
       "    <tr style=\"text-align: right;\">\n",
       "      <th></th>\n",
       "      <th>Date</th>\n",
       "      <th>Hour</th>\n",
       "      <th>Total Ontario</th>\n",
       "    </tr>\n",
       "    <tr>\n",
       "      <th>Date_Hour</th>\n",
       "      <th></th>\n",
       "      <th></th>\n",
       "      <th></th>\n",
       "    </tr>\n",
       "  </thead>\n",
       "  <tbody>\n",
       "    <tr>\n",
       "      <th>2003-05-01 01:00:00</th>\n",
       "      <td>2003-05-01</td>\n",
       "      <td>1</td>\n",
       "      <td>13702</td>\n",
       "    </tr>\n",
       "    <tr>\n",
       "      <th>2003-05-01 02:00:00</th>\n",
       "      <td>2003-05-01</td>\n",
       "      <td>2</td>\n",
       "      <td>13578</td>\n",
       "    </tr>\n",
       "    <tr>\n",
       "      <th>2003-05-01 03:00:00</th>\n",
       "      <td>2003-05-01</td>\n",
       "      <td>3</td>\n",
       "      <td>13411</td>\n",
       "    </tr>\n",
       "    <tr>\n",
       "      <th>2003-05-01 04:00:00</th>\n",
       "      <td>2003-05-01</td>\n",
       "      <td>4</td>\n",
       "      <td>13501</td>\n",
       "    </tr>\n",
       "    <tr>\n",
       "      <th>2003-05-01 05:00:00</th>\n",
       "      <td>2003-05-01</td>\n",
       "      <td>5</td>\n",
       "      <td>14010</td>\n",
       "    </tr>\n",
       "  </tbody>\n",
       "</table>\n",
       "</div>"
      ],
      "text/plain": [
       "                          Date  Hour  Total Ontario\n",
       "Date_Hour                                          \n",
       "2003-05-01 01:00:00 2003-05-01     1          13702\n",
       "2003-05-01 02:00:00 2003-05-01     2          13578\n",
       "2003-05-01 03:00:00 2003-05-01     3          13411\n",
       "2003-05-01 04:00:00 2003-05-01     4          13501\n",
       "2003-05-01 05:00:00 2003-05-01     5          14010"
      ]
     },
     "execution_count": 6,
     "metadata": {},
     "output_type": "execute_result"
    }
   ],
   "source": [
    "#remove zones\n",
    "df.drop(df.columns[3:],axis = 1, inplace=True)\n",
    "df.head()"
   ]
  },
  {
   "cell_type": "code",
   "execution_count": 7,
   "metadata": {},
   "outputs": [],
   "source": [
    "df.drop('Date',axis = 1, inplace = True)"
   ]
  },
  {
   "cell_type": "code",
   "execution_count": 8,
   "metadata": {},
   "outputs": [],
   "source": [
    "df.drop('Hour',axis = 1, inplace = True)"
   ]
  },
  {
   "cell_type": "code",
   "execution_count": 15,
   "metadata": {},
   "outputs": [
    {
     "data": {
      "text/plain": [
       "array([[13702],\n",
       "       [13578],\n",
       "       [13411],\n",
       "       ...,\n",
       "       [17772],\n",
       "       [17228],\n",
       "       [16842]], dtype=int64)"
      ]
     },
     "execution_count": 15,
     "metadata": {},
     "output_type": "execute_result"
    }
   ],
   "source": [
    "df.as_matrix()"
   ]
  },
  {
   "cell_type": "markdown",
   "metadata": {},
   "source": [
    "# EDA"
   ]
  },
  {
   "cell_type": "code",
   "execution_count": 40,
   "metadata": {},
   "outputs": [
    {
     "data": {
      "text/plain": [
       "<matplotlib.axes._subplots.AxesSubplot at 0x15f18dfccf8>"
      ]
     },
     "execution_count": 40,
     "metadata": {},
     "output_type": "execute_result"
    },
    {
     "data": {
      "image/png": "[encoded data removed]",
      "text/plain": [
       "<matplotlib.figure.Figure at 0x15f1a20a1d0>"
      ]
     },
     "metadata": {},
     "output_type": "display_data"
    }
   ],
   "source": [
    "df.plot()"
   ]
  },
  {
   "cell_type": "code",
   "execution_count": 53,
   "metadata": {},
   "outputs": [],
   "source": [
    "#Remove pre 2004\n",
    "df = df[8761:]"
   ]
  },
  {
   "cell_type": "code",
   "execution_count": 42,
   "metadata": {},
   "outputs": [
    {
     "data": {
      "text/plain": [
       "<matplotlib.axes._subplots.AxesSubplot at 0x15f0db74860>"
      ]
     },
     "execution_count": 42,
     "metadata": {},
     "output_type": "execute_result"
    },
    {
     "data": {
      "image/png": "[encoded data removed]",
      "text/plain": [
       "<matplotlib.figure.Figure at 0x15f0db78748>"
      ]
     },
     "metadata": {},
     "output_type": "display_data"
    }
   ],
   "source": [
    "df.plot()"
   ]
  },
  {
   "cell_type": "code",
   "execution_count": 43,
   "metadata": {},
   "outputs": [
    {
     "data": {
      "text/html": [
       "<div>\n",
       "<style scoped>\n",
       "    .dataframe tbody tr th:only-of-type {\n",
       "        vertical-align: middle;\n",
       "    }\n",
       "\n",
       "    .dataframe tbody tr th {\n",
       "        vertical-align: top;\n",
       "    }\n",
       "\n",
       "    .dataframe thead th {\n",
       "        text-align: right;\n",
       "    }\n",
       "</style>\n",
       "<table border=\"1\" class=\"dataframe\">\n",
       "  <thead>\n",
       "    <tr style=\"text-align: right;\">\n",
       "      <th></th>\n",
       "      <th>Total Ontario</th>\n",
       "    </tr>\n",
       "  </thead>\n",
       "  <tbody>\n",
       "    <tr>\n",
       "      <th>count</th>\n",
       "      <td>119856.000000</td>\n",
       "    </tr>\n",
       "    <tr>\n",
       "      <th>mean</th>\n",
       "      <td>16358.176587</td>\n",
       "    </tr>\n",
       "    <tr>\n",
       "      <th>std</th>\n",
       "      <td>2586.193168</td>\n",
       "    </tr>\n",
       "    <tr>\n",
       "      <th>min</th>\n",
       "      <td>10167.000000</td>\n",
       "    </tr>\n",
       "    <tr>\n",
       "      <th>25%</th>\n",
       "      <td>14431.000000</td>\n",
       "    </tr>\n",
       "    <tr>\n",
       "      <th>50%</th>\n",
       "      <td>16288.000000</td>\n",
       "    </tr>\n",
       "    <tr>\n",
       "      <th>75%</th>\n",
       "      <td>18129.000000</td>\n",
       "    </tr>\n",
       "    <tr>\n",
       "      <th>max</th>\n",
       "      <td>27005.000000</td>\n",
       "    </tr>\n",
       "  </tbody>\n",
       "</table>\n",
       "</div>"
      ],
      "text/plain": [
       "       Total Ontario\n",
       "count  119856.000000\n",
       "mean    16358.176587\n",
       "std      2586.193168\n",
       "min     10167.000000\n",
       "25%     14431.000000\n",
       "50%     16288.000000\n",
       "75%     18129.000000\n",
       "max     27005.000000"
      ]
     },
     "execution_count": 43,
     "metadata": {},
     "output_type": "execute_result"
    }
   ],
   "source": [
    "df.describe()"
   ]
  },
  {
   "cell_type": "code",
   "execution_count": 44,
   "metadata": {},
   "outputs": [
    {
     "data": {
      "text/plain": [
       "<matplotlib.axes._subplots.AxesSubplot at 0x15f1d468438>"
      ]
     },
     "execution_count": 44,
     "metadata": {},
     "output_type": "execute_result"
    },
    {
     "data": {
      "image/png": "[encoded data removed]",
      "text/plain": [
       "<matplotlib.figure.Figure at 0x15f1d43b668>"
      ]
     },
     "metadata": {},
     "output_type": "display_data"
    }
   ],
   "source": [
    "sns.boxplot(df, palette='deep')"
   ]
  },
  {
   "cell_type": "code",
   "execution_count": 45,
   "metadata": {},
   "outputs": [
    {
     "data": {
      "text/plain": [
       "<matplotlib.axes._subplots.AxesSubplot at 0x15f1d85f710>"
      ]
     },
     "execution_count": 45,
     "metadata": {},
     "output_type": "execute_result"
    },
    {
     "data": {
      "image/png": "[encoded data removed]",
      "text/plain": [
       "<matplotlib.figure.Figure at 0x15f17a60588>"
      ]
     },
     "metadata": {},
     "output_type": "display_data"
    }
   ],
   "source": [
    "sns.violinplot(df,palette='Dark2')"
   ]
  },
  {
   "cell_type": "markdown",
   "metadata": {},
   "source": [
    "# RNN Preprocessing"
   ]
  },
  {
   "cell_type": "code",
   "execution_count": 128,
   "metadata": {},
   "outputs": [
    {
     "data": {
      "text/plain": [
       "Date_Hour\n",
       "2005-04-30 02:00:00    9.496346\n",
       "2005-04-30 03:00:00    9.482731\n",
       "2005-04-30 04:00:00    9.483645\n",
       "2005-04-30 05:00:00    9.502786\n",
       "2005-04-30 06:00:00    9.536257\n",
       "Name: Total Ontario, dtype: float64"
      ]
     },
     "execution_count": 128,
     "metadata": {},
     "output_type": "execute_result"
    }
   ],
   "source": [
    "#log to shrink values and induce stationairty \n",
    "df_log = pd.Series(df['Total Ontario'].apply(lambda x: np.log(x)))\n",
    "df_log.head()"
   ]
  },
  {
   "cell_type": "code",
   "execution_count": 129,
   "metadata": {
    "scrolled": true
   },
   "outputs": [
    {
     "name": "stdout",
     "output_type": "stream",
     "text": [
      "4628\n",
      "(4628, 24, 1)\n",
      "[[[9.49634604]\n",
      "  [9.48273113]\n",
      "  [9.48364458]\n",
      "  [9.50278608]\n",
      "  [9.53625709]\n",
      "  [9.58376427]\n",
      "  [9.65771488]\n",
      "  [9.71299269]\n",
      "  [9.72740648]\n",
      "  [9.74296663]\n",
      "  [9.74402278]\n",
      "  [9.72597442]\n",
      "  [9.6995337 ]\n",
      "  [9.69307512]\n",
      "  [9.71262966]\n",
      "  [9.71860271]\n",
      "  [9.70479268]\n",
      "  [9.69264306]\n",
      "  [9.69535576]\n",
      "  [9.68744374]\n",
      "  [9.64988479]\n",
      "  [9.59000893]\n",
      "  [9.52347087]\n",
      "  [9.49799744]]\n",
      "\n",
      " [[9.47131906]\n",
      "  [9.45548022]\n",
      "  [9.45312968]\n",
      "  [9.46668656]\n",
      "  [9.47401147]\n",
      "  [9.51310808]\n",
      "  [9.57574708]\n",
      "  [9.62582182]\n",
      "  [9.63991256]\n",
      "  [9.65617937]\n",
      "  [9.6562434 ]\n",
      "  [9.64264213]\n",
      "  [9.63344892]\n",
      "  [9.63443094]\n",
      "  [9.64478159]\n",
      "  [9.64672258]\n",
      "  [9.63867529]\n",
      "  [9.64743334]\n",
      "  [9.68973725]\n",
      "  [9.71038812]\n",
      "  [9.65848175]\n",
      "  [9.58514007]\n",
      "  [9.53741141]\n",
      "  [9.50799753]]]\n",
      "[[[9.48273113]\n",
      "  [9.48364458]\n",
      "  [9.50278608]\n",
      "  [9.53625709]\n",
      "  [9.58376427]\n",
      "  [9.65771488]\n",
      "  [9.71299269]\n",
      "  [9.72740648]\n",
      "  [9.74296663]\n",
      "  [9.74402278]\n",
      "  [9.72597442]\n",
      "  [9.6995337 ]\n",
      "  [9.69307512]\n",
      "  [9.71262966]\n",
      "  [9.71860271]\n",
      "  [9.70479268]\n",
      "  [9.69264306]\n",
      "  [9.69535576]\n",
      "  [9.68744374]\n",
      "  [9.64988479]\n",
      "  [9.59000893]\n",
      "  [9.52347087]\n",
      "  [9.49799744]\n",
      "  [9.47131906]]]\n",
      "(4628, 24, 1)\n"
     ]
    }
   ],
   "source": [
    "ts = np.array(df_log)\n",
    "num_periods = 24\n",
    "f_horizon = 1\n",
    "\n",
    "x_data = ts[:(len(ts)-(len(ts) % num_periods))]\n",
    "x_batches = x_data.reshape(-1,24,1)\n",
    "\n",
    "y_data = ts[1:(len(ts)-(len(ts) % num_periods))+f_horizon]\n",
    "y_batches = y_data.reshape(-1,24,1)\n",
    "\n",
    "print(len(x_batches))\n",
    "print(x_batches.shape)\n",
    "print(x_batches[0:2])\n",
    "\n",
    "print(y_batches[0:1])\n",
    "print(y_batches.shape)"
   ]
  },
  {
   "cell_type": "code",
   "execution_count": 130,
   "metadata": {
    "scrolled": true
   },
   "outputs": [
    {
     "name": "stdout",
     "output_type": "stream",
     "text": [
      "(1, 24, 1)\n",
      "[[[9.71679646]\n",
      "  [9.684585  ]\n",
      "  [9.65771488]\n",
      "  [9.64374485]\n",
      "  [9.63508509]\n",
      "  [9.64212279]\n",
      "  [9.65425667]\n",
      "  [9.67388569]\n",
      "  [9.72112599]\n",
      "  [9.7562049 ]\n",
      "  [9.77343581]\n",
      "  [9.78013277]\n",
      "  [9.78790834]\n",
      "  [9.78143291]\n",
      "  [9.77029896]\n",
      "  [9.76995616]\n",
      "  [9.78526692]\n",
      "  [9.83037908]\n",
      "  [9.89490079]\n",
      "  [9.87734889]\n",
      "  [9.83659961]\n",
      "  [9.81378164]\n",
      "  [9.78537946]\n",
      "  [9.75429125]]]\n"
     ]
    }
   ],
   "source": [
    "def test_data(series,forecast,num_periods):\n",
    "    test_x_setup = ts[-(num_periods + forecast):]\n",
    "    testX = test_x_setup[:num_periods].reshape(-1,24,1)\n",
    "    testY = ts[-(num_periods):].reshape(-1,24,1)\n",
    "    return testX, testY\n",
    "\n",
    "X_test, Y_test = test_data(ts,f_horizon,num_periods)\n",
    "print(X_test.shape)\n",
    "print(X_test)"
   ]
  },
  {
   "cell_type": "markdown",
   "metadata": {},
   "source": [
    "# Build RNN Model"
   ]
  },
  {
   "cell_type": "markdown",
   "metadata": {},
   "source": [
    "https://mapr.com/blog/deep-learning-tensorflow/"
   ]
  },
  {
   "cell_type": "code",
   "execution_count": 131,
   "metadata": {
    "scrolled": true
   },
   "outputs": [],
   "source": [
    "import tensorflow as tf"
   ]
  },
  {
   "cell_type": "code",
   "execution_count": 132,
   "metadata": {},
   "outputs": [],
   "source": [
    "import tensorflow.contrib.learn as tflearn\n",
    "import tensorflow.contrib.layers as tflayers\n",
    "from tensorflow.contrib.learn.python.learn import learn_runner\n",
    "import tensorflow.contrib.metrics as metrics\n",
    "import tensorflow.contrib.rnn as rnn"
   ]
  },
  {
   "cell_type": "code",
   "execution_count": 143,
   "metadata": {},
   "outputs": [],
   "source": [
    "tf.reset_default_graph()\n",
    "num_periods = 24\n",
    "inputs = 1\n",
    "hidden = 200\n",
    "output = 1\n",
    "\n",
    "X = tf.placeholder(tf.float32,[None, num_periods,inputs])\n",
    "y = tf.placeholder(tf.float32,[None, num_periods,output])\n",
    "\n",
    "basic_cell = tf.contrib.rnn.BasicRNNCell(num_units=hidden,activation=tf.nn.relu)\n",
    "rnn_output, states = tf.nn.dynamic_rnn(basic_cell, X, dtype = tf.float32)\n",
    "\n",
    "learning_rate = 0.001\n",
    "\n",
    "stacked_rnn_output = tf.reshape(rnn_output, [-1,hidden])\n",
    "stacked_outputs = tf.layers.dense(stacked_rnn_output,output)\n",
    "outputs = tf.reshape(stacked_outputs,[-1,num_periods,output])\n",
    "\n",
    "loss = tf.reduce_sum(tf.square(outputs - y))\n",
    "optimizer = tf.train.AdamOptimizer(learning_rate = learning_rate)\n",
    "training_op = optimizer.minimize(loss)\n",
    "\n",
    "init = tf.global_variables_initializer()"
   ]
  },
  {
   "cell_type": "markdown",
   "metadata": {},
   "source": [
    "# Run Model"
   ]
  },
  {
   "cell_type": "code",
   "execution_count": 144,
   "metadata": {},
   "outputs": [
    {
     "name": "stdout",
     "output_type": "stream",
     "text": [
      "0 \tMSE 8119341.5\n",
      "100 \tMSE 86090.55\n",
      "200 \tMSE 2743.093\n",
      "300 \tMSE 124.85457\n",
      "400 \tMSE 101.315216\n",
      "500 \tMSE 83.71179\n",
      "600 \tMSE 76.655945\n",
      "700 \tMSE 75.66073\n",
      "800 \tMSE 75.26607\n",
      "900 \tMSE 70.64095\n",
      "[[[9.686921 ]\n",
      "  [9.680773 ]\n",
      "  [9.686622 ]\n",
      "  [9.711172 ]\n",
      "  [9.740113 ]\n",
      "  [9.730357 ]\n",
      "  [9.707215 ]\n",
      "  [9.70283  ]\n",
      "  [9.732011 ]\n",
      "  [9.756974 ]\n",
      "  [9.775174 ]\n",
      "  [9.776354 ]\n",
      "  [9.7899065]\n",
      "  [9.795119 ]\n",
      "  [9.802407 ]\n",
      "  [9.799901 ]\n",
      "  [9.798067 ]\n",
      "  [9.808209 ]\n",
      "  [9.835017 ]\n",
      "  [9.821047 ]\n",
      "  [9.778118 ]\n",
      "  [9.740466 ]\n",
      "  [9.711257 ]\n",
      "  [9.684953 ]]]\n"
     ]
    }
   ],
   "source": [
    "epochs = 1000\n",
    "\n",
    "with tf.Session() as sess:\n",
    "    init.run()\n",
    "    for ep in range(epochs):\n",
    "        sess.run(training_op,feed_dict={X: x_batches, y: y_batches})\n",
    "        if ep % 100 == 0:\n",
    "            mse = loss.eval(feed_dict={X: x_batches, y: y_batches})\n",
    "            print(ep,\"\\tMSE\", mse)\n",
    "        \n",
    "    y_pred = sess.run(outputs,feed_dict={X: X_test})\n",
    "    print(y_pred)"
   ]
  },
  {
   "cell_type": "code",
   "execution_count": 146,
   "metadata": {},
   "outputs": [
    {
     "data": {
      "text/plain": [
       "array([[[16105.581],\n",
       "        [16006.862],\n",
       "        [16100.759],\n",
       "        [16500.932],\n",
       "        [16985.465],\n",
       "        [16820.559],\n",
       "        [16435.77 ],\n",
       "        [16363.856],\n",
       "        [16848.398],\n",
       "        [17274.285],\n",
       "        [17591.553],\n",
       "        [17612.318],\n",
       "        [17852.637],\n",
       "        [17945.941],\n",
       "        [18077.209],\n",
       "        [18031.959],\n",
       "        [17998.922],\n",
       "        [18182.4  ],\n",
       "        [18676.424],\n",
       "        [18417.32 ],\n",
       "        [17643.42 ],\n",
       "        [16991.459],\n",
       "        [16502.332],\n",
       "        [16073.91 ]]], dtype=float32)"
      ]
     },
     "execution_count": 146,
     "metadata": {},
     "output_type": "execute_result"
    }
   ],
   "source": [
    "#Remove log\n",
    "y_pred_trans= np.exp(y_pred)\n",
    "Y_test_trans = np.exp(Y_test)\n",
    "y_pred_trans"
   ]
  },
  {
   "cell_type": "code",
   "execution_count": 145,
   "metadata": {},
   "outputs": [
    {
     "data": {
      "text/plain": [
       "<matplotlib.legend.Legend at 0x15f27ff5c88>"
      ]
     },
     "execution_count": 145,
     "metadata": {},
     "output_type": "execute_result"
    },
    {
     "data": {
      "image/png": "[encoded data removed]",
      "text/plain": [
       "<matplotlib.figure.Figure at 0x15f27ff59e8>"
      ]
     },
     "metadata": {},
     "output_type": "display_data"
    }
   ],
   "source": [
    "plt.title(\"Forecast vs Actual (HL = 100, Epochs = 1000, MSE = 113)\",fontsize=14)\n",
    "plt.plot(pd.Series(np.ravel(Y_test_trans)), label = \"Actual\")\n",
    "plt.plot(pd.Series(np.ravel(y_pred_trans)), label = \"Forecast\")\n",
    "plt.legend()"
   ]
  },
  {
   "cell_type": "code",
   "execution_count": 147,
   "metadata": {},
   "outputs": [
    {
     "data": {
      "text/plain": [
       "<matplotlib.legend.Legend at 0x15f27fa0c50>"
      ]
     },
     "execution_count": 147,
     "metadata": {},
     "output_type": "execute_result"
    },
    {
     "data": {
      "image/png": "[encoded data removed]",
      "text/plain": [
       "<matplotlib.figure.Figure at 0x15f27fa0940>"
      ]
     },
     "metadata": {},
     "output_type": "display_data"
    }
   ],
   "source": [
    "plt.title(\"Forecast vs Actual (HL = 200, Epochs = 1000, MSE = 70)\",fontsize=14)\n",
    "plt.plot(pd.Series(np.ravel(Y_test_trans)), label = \"Actual\")\n",
    "plt.plot(pd.Series(np.ravel(y_pred_trans)), label = \"Forecast\")\n",
    "plt.legend()"
   ]
  },
  {
   "cell_type": "code",
   "execution_count": null,
   "metadata": {},
   "outputs": [],
   "source": []
  }
 ],
 "metadata": {
  "kernelspec": {
   "display_name": "Python 3",
   "language": "python",
   "name": "python3"
  },
  "language_info": {
   "codemirror_mode": {
    "name": "ipython",
    "version": 3
   },
   "file_extension": ".py",
   "mimetype": "text/x-python",
   "name": "python",
   "nbconvert_exporter": "python",
   "pygments_lexer": "ipython3",
   "version": "3.6.4"
  }
 },
 "nbformat": 4,
 "nbformat_minor": 2
}
